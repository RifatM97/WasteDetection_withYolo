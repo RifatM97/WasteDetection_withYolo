{
 "cells": [
  {
   "cell_type": "markdown",
   "metadata": {},
   "source": [
    "### Download training and validation data"
   ]
  },
  {
   "cell_type": "code",
   "execution_count": 1,
   "metadata": {},
   "outputs": [
    {
     "name": "stderr",
     "output_type": "stream",
     "text": [
      "Downloading...\n",
      "From (uriginal): https://drive.google.com/uc?/export=download&id=1ECfl3dtYyfivY8kYPq7RHUBTjC-2vf61\n",
      "From (redirected): https://drive.google.com/uc?/export=download&id=1ECfl3dtYyfivY8kYPq7RHUBTjC-2vf61&confirm=t&uuid=d352486d-e116-44c8-8664-76864eda6db9\n",
      "To: /Users/rifatmahammod/Library/CloudStorage/OneDrive-Personal/Rifat's folder/CS Projects/Yolo_wasteDetection/WasteDetection_withYolo/data/waste_data.zip\n",
      "100%|██████████| 40.1M/40.1M [00:03<00:00, 10.1MB/s]\n"
     ]
    },
    {
     "data": {
      "text/plain": [
       "'data/waste_data.zip'"
      ]
     },
     "execution_count": 1,
     "metadata": {},
     "output_type": "execute_result"
    }
   ],
   "source": [
    "import gdown\n",
    "import os\n",
    "os.chdir(\"../\")\n",
    "\n",
    "# download image folder from dsbappy guy gdrive\n",
    "url = \"https://drive.google.com/file/d/1ECfl3dtYyfivY8kYPq7RHUBTjC-2vf61/view?usp=sharing\"\n",
    "file_id = url.split(\"/\")[-2]\n",
    "file_id\n",
    "prefix = 'https://drive.google.com/uc?/export=download&id='\n",
    "# donwload folder in data directory\n",
    "gdown.download(prefix+file_id, \"data/waste_data.zip\")\n"
   ]
  },
  {
   "cell_type": "code",
   "execution_count": null,
   "metadata": {},
   "outputs": [],
   "source": []
  }
 ],
 "metadata": {
  "kernelspec": {
   "display_name": "waste_env",
   "language": "python",
   "name": "python3"
  },
  "language_info": {
   "codemirror_mode": {
    "name": "ipython",
    "version": 3
   },
   "file_extension": ".py",
   "mimetype": "text/x-python",
   "name": "python",
   "nbconvert_exporter": "python",
   "pygments_lexer": "ipython3",
   "version": "3.9.2"
  },
  "orig_nbformat": 4
 },
 "nbformat": 4,
 "nbformat_minor": 2
}
