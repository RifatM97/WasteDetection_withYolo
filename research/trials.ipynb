{
 "cells": [
  {
   "cell_type": "markdown",
   "metadata": {},
   "source": [
    "### Download training and validation data"
   ]
  },
  {
   "cell_type": "code",
   "execution_count": 10,
   "metadata": {},
   "outputs": [
    {
     "name": "stderr",
     "output_type": "stream",
     "text": [
      "Downloading...\n",
      "From (uriginal): https://drive.google.com/uc?/export=download&id=1ECfl3dtYyfivY8kYPq7RHUBTjC-2vf61\n",
      "From (redirected): https://drive.google.com/uc?/export=download&id=1ECfl3dtYyfivY8kYPq7RHUBTjC-2vf61&confirm=t&uuid=94780888-6855-495a-adbb-2fb441f56916\n",
      "To: /Users/rifatmahammod/Library/CloudStorage/OneDrive-Personal/Rifat's folder/CS Projects/Yolo_wasteDetection/WasteDetection_withYolo/data/waste_data.zip\n",
      "100%|██████████| 40.1M/40.1M [00:02<00:00, 15.2MB/s]\n"
     ]
    },
    {
     "data": {
      "text/plain": [
       "'data/waste_data.zip'"
      ]
     },
     "execution_count": 10,
     "metadata": {},
     "output_type": "execute_result"
    }
   ],
   "source": [
    "import gdown\n",
    "import os\n",
    "os.chdir(\"WasteDetection_withYolo\")\n",
    "\n",
    "# download image folder from dsbappy guy gdrive\n",
    "url = \"https://drive.google.com/file/d/1ECfl3dtYyfivY8kYPq7RHUBTjC-2vf61/view?usp=sharing\"\n",
    "file_id = url.split(\"/\")[-2]\n",
    "file_id\n",
    "prefix = 'https://drive.google.com/uc?/export=download&id='\n",
    "# donwload folder in data directory\n",
    "gdown.download(prefix+file_id, \"data/waste_data.zip\")"
   ]
  },
  {
   "cell_type": "code",
   "execution_count": null,
   "metadata": {},
   "outputs": [],
   "source": []
  }
 ],
 "metadata": {
  "language_info": {
   "name": "python"
  },
  "orig_nbformat": 4
 },
 "nbformat": 4,
 "nbformat_minor": 2
}
